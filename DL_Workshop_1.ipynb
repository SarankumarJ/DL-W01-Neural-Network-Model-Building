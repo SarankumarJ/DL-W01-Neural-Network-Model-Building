{
  "nbformat": 4,
  "nbformat_minor": 0,
  "metadata": {
    "colab": {
      "provenance": []
    },
    "kernelspec": {
      "name": "python3",
      "display_name": "Python 3"
    },
    "language_info": {
      "name": "python"
    }
  },
  "cells": [
    {
      "cell_type": "code",
      "source": [
        "import numpy as np\n",
        "import pandas as pd\n",
        "from sklearn.model_selection import train_test_split\n",
        "from sklearn.preprocessing import LabelEncoder\n",
        "from tensorflow.keras.models import Sequential\n",
        "from tensorflow.keras.layers import Dense"
      ],
      "metadata": {
        "id": "QOE_AFqimbry"
      },
      "execution_count": null,
      "outputs": []
    },
    {
      "cell_type": "code",
      "source": [
        "# Load the dataset\n",
        "data = pd.read_csv(\"mushrooms.csv\")"
      ],
      "metadata": {
        "id": "J5pLlQP9mjIA"
      },
      "execution_count": null,
      "outputs": []
    },
    {
      "cell_type": "code",
      "source": [
        "# Separate features (X) and target variable (y)\n",
        "X = data.drop('class', axis=1)\n",
        "y = data['class']"
      ],
      "metadata": {
        "id": "PXLZ7KsGmpTy"
      },
      "execution_count": null,
      "outputs": []
    },
    {
      "cell_type": "code",
      "source": [
        "# Convert categorical input to numeric values using LabelEncoder\n",
        "label_encoders = {}\n",
        "for column in X.columns:\n",
        "    le = LabelEncoder()\n",
        "    X[column] = le.fit_transform(X[column])\n",
        "    label_encoders[column] = le"
      ],
      "metadata": {
        "id": "AgAzI6Bcmsit"
      },
      "execution_count": null,
      "outputs": []
    },
    {
      "cell_type": "code",
      "source": [
        "# Convert the categorical output to numeric values\n",
        "y = LabelEncoder().fit_transform(y)"
      ],
      "metadata": {
        "id": "YdxiSx5VmuOp"
      },
      "execution_count": null,
      "outputs": []
    },
    {
      "cell_type": "code",
      "source": [
        "# Split the dataset into training and testing sets\n",
        "X_train, X_test, y_train, y_test = train_test_split(X, y, test_size=0.2, random_state=42)"
      ],
      "metadata": {
        "id": "Z7b_HZLOmwHA"
      },
      "execution_count": null,
      "outputs": []
    },
    {
      "cell_type": "code",
      "source": [
        "# Build a TensorFlow model with appropriate activation functions and number of neurons in the output layer\n",
        "model = Sequential([\n",
        "    Dense(64, activation='relu', input_shape=(X_train.shape[1],)),\n",
        "    Dense(32, activation='relu'),\n",
        "    Dense(1, activation='sigmoid')\n",
        "])"
      ],
      "metadata": {
        "id": "UE8_KfajmxsK"
      },
      "execution_count": null,
      "outputs": []
    },
    {
      "cell_type": "code",
      "source": [
        "# Compile the model\n",
        "model.compile(optimizer='adam', loss='binary_crossentropy', metrics=['accuracy'])"
      ],
      "metadata": {
        "id": "1wmWzn6Hm1Qp"
      },
      "execution_count": null,
      "outputs": []
    },
    {
      "cell_type": "code",
      "source": [
        "# Train the model\n",
        "model.fit(X_train, y_train, epochs=15, batch_size=64, validation_data=(X_test, y_test))"
      ],
      "metadata": {
        "colab": {
          "base_uri": "https://localhost:8080/"
        },
        "id": "asN3m36ym3Ay",
        "outputId": "d94ade6e-75d1-4727-bbe5-fd264266681b"
      },
      "execution_count": null,
      "outputs": [
        {
          "output_type": "stream",
          "name": "stdout",
          "text": [
            "Epoch 1/15\n",
            "102/102 [==============================] - 2s 8ms/step - loss: 0.4261 - accuracy: 0.8058 - val_loss: 0.2848 - val_accuracy: 0.8935\n",
            "Epoch 2/15\n",
            "102/102 [==============================] - 0s 4ms/step - loss: 0.2233 - accuracy: 0.9180 - val_loss: 0.1793 - val_accuracy: 0.9298\n",
            "Epoch 3/15\n",
            "102/102 [==============================] - 0s 3ms/step - loss: 0.1378 - accuracy: 0.9521 - val_loss: 0.1126 - val_accuracy: 0.9649\n",
            "Epoch 4/15\n",
            "102/102 [==============================] - 0s 2ms/step - loss: 0.0855 - accuracy: 0.9755 - val_loss: 0.0761 - val_accuracy: 0.9748\n",
            "Epoch 5/15\n",
            "102/102 [==============================] - 0s 3ms/step - loss: 0.0560 - accuracy: 0.9854 - val_loss: 0.0441 - val_accuracy: 0.9914\n",
            "Epoch 6/15\n",
            "102/102 [==============================] - 0s 3ms/step - loss: 0.0373 - accuracy: 0.9918 - val_loss: 0.0276 - val_accuracy: 0.9957\n",
            "Epoch 7/15\n",
            "102/102 [==============================] - 0s 2ms/step - loss: 0.0258 - accuracy: 0.9949 - val_loss: 0.0223 - val_accuracy: 0.9969\n",
            "Epoch 8/15\n",
            "102/102 [==============================] - 0s 3ms/step - loss: 0.0183 - accuracy: 0.9971 - val_loss: 0.0144 - val_accuracy: 0.9988\n",
            "Epoch 9/15\n",
            "102/102 [==============================] - 1s 6ms/step - loss: 0.0135 - accuracy: 0.9978 - val_loss: 0.0110 - val_accuracy: 0.9988\n",
            "Epoch 10/15\n",
            "102/102 [==============================] - 1s 6ms/step - loss: 0.0117 - accuracy: 0.9975 - val_loss: 0.0108 - val_accuracy: 0.9994\n",
            "Epoch 11/15\n",
            "102/102 [==============================] - 0s 4ms/step - loss: 0.0073 - accuracy: 0.9994 - val_loss: 0.0073 - val_accuracy: 0.9994\n",
            "Epoch 12/15\n",
            "102/102 [==============================] - 0s 4ms/step - loss: 0.0056 - accuracy: 0.9998 - val_loss: 0.0049 - val_accuracy: 0.9994\n",
            "Epoch 13/15\n",
            "102/102 [==============================] - 0s 4ms/step - loss: 0.0044 - accuracy: 0.9998 - val_loss: 0.0047 - val_accuracy: 1.0000\n",
            "Epoch 14/15\n",
            "102/102 [==============================] - 0s 5ms/step - loss: 0.0036 - accuracy: 1.0000 - val_loss: 0.0035 - val_accuracy: 0.9994\n",
            "Epoch 15/15\n",
            "102/102 [==============================] - 1s 5ms/step - loss: 0.0030 - accuracy: 0.9998 - val_loss: 0.0032 - val_accuracy: 1.0000\n"
          ]
        },
        {
          "output_type": "execute_result",
          "data": {
            "text/plain": [
              "<keras.src.callbacks.History at 0x79a0e3a8d720>"
            ]
          },
          "metadata": {},
          "execution_count": 12
        }
      ]
    },
    {
      "cell_type": "code",
      "source": [
        "# Evaluate the model on the test set\n",
        "test_loss, test_acc = model.evaluate(X_test, y_test)\n",
        "print('Test accuracy:', test_acc)"
      ],
      "metadata": {
        "id": "9skFa88sm7jd",
        "outputId": "f79e5539-da9e-4458-f77a-43b8ead52e60",
        "colab": {
          "base_uri": "https://localhost:8080/"
        }
      },
      "execution_count": null,
      "outputs": [
        {
          "output_type": "stream",
          "name": "stdout",
          "text": [
            "51/51 [==============================] - 0s 1ms/step - loss: 0.0032 - accuracy: 1.0000\n",
            "Test accuracy: 1.0\n"
          ]
        }
      ]
    },
    {
      "cell_type": "code",
      "source": [],
      "metadata": {
        "id": "z9aowV2im_et"
      },
      "execution_count": null,
      "outputs": []
    }
  ]
}